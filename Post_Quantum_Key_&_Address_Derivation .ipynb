{
  "nbformat": 4,
  "nbformat_minor": 0,
  "metadata": {
    "colab": {
      "provenance": []
    },
    "kernelspec": {
      "name": "python3",
      "display_name": "Python 3"
    },
    "language_info": {
      "name": "python"
    }
  },
  "cells": [
    {
      "cell_type": "code",
      "execution_count": 1,
      "metadata": {
        "colab": {
          "base_uri": "https://localhost:8080/"
        },
        "collapsed": true,
        "id": "CUloIf7isOqW",
        "outputId": "89c87c4d-7051-4283-ad78-69c47f9ee3e8"
      },
      "outputs": [
        {
          "output_type": "stream",
          "name": "stdout",
          "text": [
            "Collecting bip-utils\n",
            "  Downloading bip_utils-2.9.3-py3-none-any.whl.metadata (14 kB)\n",
            "Collecting pycryptodome\n",
            "  Downloading pycryptodome-3.23.0-cp37-abi3-manylinux_2_17_x86_64.manylinux2014_x86_64.whl.metadata (3.4 kB)\n",
            "Collecting cbor2<6.0.0,>=5.1.2 (from bip-utils)\n",
            "  Downloading cbor2-5.6.5-cp311-cp311-manylinux_2_17_x86_64.manylinux2014_x86_64.whl.metadata (6.0 kB)\n",
            "Collecting crcmod~=1.7 (from bip-utils)\n",
            "  Downloading crcmod-1.7.tar.gz (89 kB)\n",
            "\u001b[2K     \u001b[90m━━━━━━━━━━━━━━━━━━━━━━━━━━━━━━━━━━━━━━━━\u001b[0m \u001b[32m89.7/89.7 kB\u001b[0m \u001b[31m4.4 MB/s\u001b[0m eta \u001b[36m0:00:00\u001b[0m\n",
            "\u001b[?25h  Preparing metadata (setup.py) ... \u001b[?25l\u001b[?25hdone\n",
            "Collecting ecdsa~=0.17 (from bip-utils)\n",
            "  Downloading ecdsa-0.19.1-py2.py3-none-any.whl.metadata (29 kB)\n",
            "Collecting pynacl~=1.5 (from bip-utils)\n",
            "  Downloading PyNaCl-1.5.0-cp36-abi3-manylinux_2_17_x86_64.manylinux2014_x86_64.manylinux_2_24_x86_64.whl.metadata (8.6 kB)\n",
            "Collecting ed25519-blake2b<2.0.0,>=1.4 (from bip-utils)\n",
            "  Downloading ed25519-blake2b-1.4.1.tar.gz (872 kB)\n",
            "\u001b[2K     \u001b[90m━━━━━━━━━━━━━━━━━━━━━━━━━━━━━━━━━━━━━━\u001b[0m \u001b[32m872.5/872.5 kB\u001b[0m \u001b[31m24.4 MB/s\u001b[0m eta \u001b[36m0:00:00\u001b[0m\n",
            "\u001b[?25h  Preparing metadata (setup.py) ... \u001b[?25l\u001b[?25hdone\n",
            "Collecting coincurve>=18.0.0 (from bip-utils)\n",
            "  Downloading coincurve-21.0.0-cp311-cp311-manylinux_2_17_x86_64.manylinux2014_x86_64.whl.metadata (4.0 kB)\n",
            "Collecting py-sr25519-bindings<2.0.0,>=0.2.0 (from bip-utils)\n",
            "  Downloading py_sr25519_bindings-0.2.2-cp311-cp311-manylinux_2_17_x86_64.manylinux2014_x86_64.whl.metadata (2.4 kB)\n",
            "Requirement already satisfied: six>=1.9.0 in /usr/local/lib/python3.11/dist-packages (from ecdsa~=0.17->bip-utils) (1.17.0)\n",
            "Requirement already satisfied: cffi>=1.4.1 in /usr/local/lib/python3.11/dist-packages (from pynacl~=1.5->bip-utils) (1.17.1)\n",
            "Requirement already satisfied: pycparser in /usr/local/lib/python3.11/dist-packages (from cffi>=1.4.1->pynacl~=1.5->bip-utils) (2.22)\n",
            "Downloading bip_utils-2.9.3-py3-none-any.whl (589 kB)\n",
            "\u001b[2K   \u001b[90m━━━━━━━━━━━━━━━━━━━━━━━━━━━━━━━━━━━━━━━━\u001b[0m \u001b[32m589.4/589.4 kB\u001b[0m \u001b[31m31.9 MB/s\u001b[0m eta \u001b[36m0:00:00\u001b[0m\n",
            "\u001b[?25hDownloading pycryptodome-3.23.0-cp37-abi3-manylinux_2_17_x86_64.manylinux2014_x86_64.whl (2.3 MB)\n",
            "\u001b[2K   \u001b[90m━━━━━━━━━━━━━━━━━━━━━━━━━━━━━━━━━━━━━━━━\u001b[0m \u001b[32m2.3/2.3 MB\u001b[0m \u001b[31m71.0 MB/s\u001b[0m eta \u001b[36m0:00:00\u001b[0m\n",
            "\u001b[?25hDownloading cbor2-5.6.5-cp311-cp311-manylinux_2_17_x86_64.manylinux2014_x86_64.whl (249 kB)\n",
            "\u001b[2K   \u001b[90m━━━━━━━━━━━━━━━━━━━━━━━━━━━━━━━━━━━━━━━━\u001b[0m \u001b[32m249.2/249.2 kB\u001b[0m \u001b[31m13.5 MB/s\u001b[0m eta \u001b[36m0:00:00\u001b[0m\n",
            "\u001b[?25hDownloading coincurve-21.0.0-cp311-cp311-manylinux_2_17_x86_64.manylinux2014_x86_64.whl (1.6 MB)\n",
            "\u001b[2K   \u001b[90m━━━━━━━━━━━━━━━━━━━━━━━━━━━━━━━━━━━━━━━━\u001b[0m \u001b[32m1.6/1.6 MB\u001b[0m \u001b[31m40.7 MB/s\u001b[0m eta \u001b[36m0:00:00\u001b[0m\n",
            "\u001b[?25hDownloading ecdsa-0.19.1-py2.py3-none-any.whl (150 kB)\n",
            "\u001b[2K   \u001b[90m━━━━━━━━━━━━━━━━━━━━━━━━━━━━━━━━━━━━━━━━\u001b[0m \u001b[32m150.6/150.6 kB\u001b[0m \u001b[31m9.2 MB/s\u001b[0m eta \u001b[36m0:00:00\u001b[0m\n",
            "\u001b[?25hDownloading py_sr25519_bindings-0.2.2-cp311-cp311-manylinux_2_17_x86_64.manylinux2014_x86_64.whl (370 kB)\n",
            "\u001b[2K   \u001b[90m━━━━━━━━━━━━━━━━━━━━━━━━━━━━━━━━━━━━━━━━\u001b[0m \u001b[32m370.6/370.6 kB\u001b[0m \u001b[31m22.9 MB/s\u001b[0m eta \u001b[36m0:00:00\u001b[0m\n",
            "\u001b[?25hDownloading PyNaCl-1.5.0-cp36-abi3-manylinux_2_17_x86_64.manylinux2014_x86_64.manylinux_2_24_x86_64.whl (856 kB)\n",
            "\u001b[2K   \u001b[90m━━━━━━━━━━━━━━━━━━━━━━━━━━━━━━━━━━━━━━━━\u001b[0m \u001b[32m856.7/856.7 kB\u001b[0m \u001b[31m43.2 MB/s\u001b[0m eta \u001b[36m0:00:00\u001b[0m\n",
            "\u001b[?25hBuilding wheels for collected packages: crcmod, ed25519-blake2b\n",
            "  Building wheel for crcmod (setup.py) ... \u001b[?25l\u001b[?25hdone\n",
            "  Created wheel for crcmod: filename=crcmod-1.7-cp311-cp311-linux_x86_64.whl size=31656 sha256=528170ce7b15e88c9dcad9dfb2d188fbdc676205eafe6e780ed4f9682892fa87\n",
            "  Stored in directory: /root/.cache/pip/wheels/23/94/7a/8cb7d14597e6395ce969933f01aed9ea8fa5f5b4d4c8a61e99\n",
            "  Building wheel for ed25519-blake2b (setup.py) ... \u001b[?25l\u001b[?25hdone\n",
            "  Created wheel for ed25519-blake2b: filename=ed25519_blake2b-1.4.1-cp311-cp311-linux_x86_64.whl size=113198 sha256=ee75457a5944ee35211ca1569848ab23b268b3a3f1bd09e9b70d6878cdfb0e76\n",
            "  Stored in directory: /root/.cache/pip/wheels/7d/9d/2a/199f74996945f855d2604c701ff22d292af0d7b3eaa8a2bdcb\n",
            "Successfully built crcmod ed25519-blake2b\n",
            "Installing collected packages: ed25519-blake2b, crcmod, pycryptodome, py-sr25519-bindings, ecdsa, coincurve, cbor2, pynacl, bip-utils\n",
            "Successfully installed bip-utils-2.9.3 cbor2-5.6.5 coincurve-21.0.0 crcmod-1.7 ecdsa-0.19.1 ed25519-blake2b-1.4.1 py-sr25519-bindings-0.2.2 pycryptodome-3.23.0 pynacl-1.5.0\n"
          ]
        }
      ],
      "source": [
        "!pip install bip-utils pycryptodome"
      ]
    },
    {
      "cell_type": "code",
      "source": [
        "import os\n",
        "import hashlib\n",
        "import hmac\n",
        "from bip_utils import Bip39MnemonicGenerator, Bip39EntropyGenerator, Bip39SeedGenerator\n",
        "from Crypto.Hash import SHAKE256, keccak\n",
        "from binascii import hexlify, unhexlify"
      ],
      "metadata": {
        "id": "8CovdfwBsY53"
      },
      "execution_count": 2,
      "outputs": []
    },
    {
      "cell_type": "markdown",
      "source": [
        "**Step 1: Entropy and Mnemonic Phrase (BIP39)**"
      ],
      "metadata": {
        "id": "rQQV0dbhuFW9"
      }
    },
    {
      "cell_type": "code",
      "source": [
        "entropy = Bip39EntropyGenerator(256).Generate()\n",
        "mnemonic = Bip39MnemonicGenerator().FromEntropy(entropy)\n",
        "print(\"Mnemonic phasrse:\")\n",
        "print(mnemonic)\n"
      ],
      "metadata": {
        "colab": {
          "base_uri": "https://localhost:8080/"
        },
        "id": "wCUfWO0csobT",
        "outputId": "f37dee2c-d195-4ab7-e533-2b84cd1ce492"
      },
      "execution_count": 5,
      "outputs": [
        {
          "output_type": "stream",
          "name": "stdout",
          "text": [
            "Mnemonic phasrse:\n",
            "more mistake airport cake icon pet runway risk jealous soldier march cancel lonely focus inflict fuel diamond frost enable busy lawsuit square minor crime\n"
          ]
        }
      ]
    },
    {
      "cell_type": "markdown",
      "source": [
        "**Step 2: Master Seed Derivation**\n",
        "\n"
      ],
      "metadata": {
        "id": "kw_NEAZKukFc"
      }
    },
    {
      "cell_type": "code",
      "source": [
        "# Manual genration of master seed\n",
        "import hashlib\n",
        "import unicodedata\n",
        "\n",
        "mnemonic_str = str(mnemonic)  # Ensure it's a string\n",
        "passphrase = \"\"               # User-defined if needed\n",
        "\n",
        "# Normalize the mnemonic (NFKD form)\n",
        "mnemonic_bytes = unicodedata.normalize(\"NFKD\", mnemonic_str).encode(\"utf-8\")\n",
        "salt_bytes = unicodedata.normalize(\"NFKD\", \"mnemonic\" + passphrase).encode(\"utf-8\")\n",
        "\n",
        "# Perform PBKDF2-HMAC-SHA512 with 2048 iterations\n",
        "master_seed = hashlib.pbkdf2_hmac(\"sha512\", mnemonic_bytes, salt_bytes, 2048, dklen=64)\n",
        "\n",
        "print(\"Master Seed (512 bits):\", master_seed.hex())\n",
        "\n"
      ],
      "metadata": {
        "colab": {
          "base_uri": "https://localhost:8080/"
        },
        "id": "qrKGe-F5v3GZ",
        "outputId": "fb935904-1c57-41f5-aa14-45a2dcb1bf07"
      },
      "execution_count": 11,
      "outputs": [
        {
          "output_type": "stream",
          "name": "stdout",
          "text": [
            "Master Seed (512 bits): 0f56a309a93c816ff1df67c5ba141dd5e28c24785c9ace891c8409a5b3039bc86c03c1b77d95c2402912c4112306d2c8e55a4e75bad893499f315515b79e8cb7\n"
          ]
        }
      ]
    },
    {
      "cell_type": "code",
      "source": [
        "# Automatic genration of master seed\n",
        "# Optional passphrase\n",
        "passphrase = \"\"  # Can be user-defined\n",
        "\n",
        "# Derive master seed (512 bits)\n",
        "seed_bytes = Bip39SeedGenerator(mnemonic).Generate(passphrase)\n",
        "\n",
        "print(\"Master Seed (hex):\", seed_bytes.hex())\n"
      ],
      "metadata": {
        "colab": {
          "base_uri": "https://localhost:8080/"
        },
        "id": "gmPsOXdmtFDR",
        "outputId": "80bd19f3-7fcd-4206-b3e2-115485348c4a"
      },
      "execution_count": 6,
      "outputs": [
        {
          "output_type": "stream",
          "name": "stdout",
          "text": [
            "Master Seed (hex): 0f56a309a93c816ff1df67c5ba141dd5e28c24785c9ace891c8409a5b3039bc86c03c1b77d95c2402912c4112306d2c8e55a4e75bad893499f315515b79e8cb7\n"
          ]
        }
      ]
    },
    {
      "cell_type": "code",
      "source": [
        "# Split the 512-bit seed into components\n",
        "dilithium_seed = seed_bytes[:32]         # 256 bits\n",
        "mdecc_seed = seed_bytes[32:48]           # 128 bits\n",
        "chain_code = seed_bytes[48:64]           # 128 bits\n",
        "\n",
        "print(\"Dilithium Seed:\", dilithium_seed.hex())\n",
        "print(\"mdECC Seed:\", mdecc_seed.hex())\n",
        "print(\"Chain Code:\", chain_code.hex())\n"
      ],
      "metadata": {
        "colab": {
          "base_uri": "https://localhost:8080/"
        },
        "id": "By1xokWStr3a",
        "outputId": "29569090-3828-465d-c9bb-dc1e2e51d8bf"
      },
      "execution_count": 7,
      "outputs": [
        {
          "output_type": "stream",
          "name": "stdout",
          "text": [
            "Dilithium Seed: 0f56a309a93c816ff1df67c5ba141dd5e28c24785c9ace891c8409a5b3039bc8\n",
            "mdECC Seed: 6c03c1b77d95c2402912c4112306d2c8\n",
            "Chain Code: e55a4e75bad893499f315515b79e8cb7\n"
          ]
        }
      ]
    },
    {
      "cell_type": "markdown",
      "source": [
        "**Step 3: Key Generation**"
      ],
      "metadata": {
        "id": "Oume2rVKuvMW"
      }
    },
    {
      "cell_type": "markdown",
      "source": [
        "Dilithium5 Key Generation"
      ],
      "metadata": {
        "id": "yIAJO-qbuxUY"
      }
    },
    {
      "cell_type": "code",
      "source": [
        "def simulate_dilithium_keygen(seed: bytes):\n",
        "    shake = SHAKE256.new()\n",
        "    shake.update(seed)\n",
        "    key_material = shake.read(2592 + 4864)\n",
        "    public_key = key_material[:2592]\n",
        "    private_key = key_material[2592:]\n",
        "    return public_key, private_key\n",
        "\n",
        "dilithium_pub, dilithium_priv = simulate_dilithium_keygen(dilithium_seed)\n",
        "\n",
        "print(\"Dilithium Public Key (2592 bytes):\", dilithium_pub[:32].hex(), \"...\")\n",
        "print(\"Dilithium Private Key (4864 bytes):\", dilithium_priv[:32].hex(), \"...\")\n"
      ],
      "metadata": {
        "colab": {
          "base_uri": "https://localhost:8080/"
        },
        "id": "k3RMMNnJtvEh",
        "outputId": "43f5afe1-3d0d-4afe-8e71-e459b7b81d50"
      },
      "execution_count": 8,
      "outputs": [
        {
          "output_type": "stream",
          "name": "stdout",
          "text": [
            "Dilithium Public Key (2592 bytes): 5b1dbf2d1e27f253f68b344cd92bd9fbb7f6ebaa9bd6591e1391f3863d17d2ce ...\n",
            "Dilithium Private Key (4864 bytes): fda6af5b360bfef653d4da67ff22604e5ac884da43099ad7e20dc3b5b6ddb317 ...\n"
          ]
        }
      ]
    },
    {
      "cell_type": "markdown",
      "source": [
        "mdECC Key Generation"
      ],
      "metadata": {
        "id": "2429jG2uu0lt"
      }
    },
    {
      "cell_type": "code",
      "source": [
        "def simulate_ecc_keypair(seed: bytes, curve_id: str, key_size: int):\n",
        "    shake = SHAKE256.new()\n",
        "    shake.update(seed + curve_id.encode())\n",
        "    sk = int.from_bytes(shake.read(key_size), 'big')\n",
        "    pk = hashlib.sha256(shake.read(key_size)).digest()\n",
        "    return sk, pk\n",
        "\n",
        "# Simulate mdECC for 3 curves\n",
        "ecc_keys = {}\n",
        "for name, size in [(\"P-521\", 66), (\"Curve448\", 56), (\"E-521\", 66)]:\n",
        "    sk, pk = simulate_ecc_keypair(mdecc_seed, name, size)\n",
        "    ecc_keys[name] = {\"private\": sk, \"public\": pk}\n",
        "\n",
        "print(\"P-521 Public Key:\", ecc_keys[\"P-521\"][\"public\"].hex())\n",
        "print(\"Curve448 Public Key:\", ecc_keys[\"Curve448\"][\"public\"].hex())\n",
        "print(\"E-521 Public Key:\", ecc_keys[\"E-521\"][\"public\"].hex())\n"
      ],
      "metadata": {
        "colab": {
          "base_uri": "https://localhost:8080/"
        },
        "id": "uI_6H5wIt0Oy",
        "outputId": "0dbd7cdf-d88a-4939-ef5f-722d0f5dc4ff"
      },
      "execution_count": 9,
      "outputs": [
        {
          "output_type": "stream",
          "name": "stdout",
          "text": [
            "P-521 Public Key: 4cc95cf717465f46978d138fc1434a6dbd3f26fbebb14688d80f0678f927ee85\n",
            "Curve448 Public Key: 77abbc9426a52d4dff8bc1f34f370c9efb32922bbc427a79d990aa9231061ebc\n",
            "E-521 Public Key: d1482185986344faf03184778a1cc17cb2650fc33aba43d8bb8965eadcff03e6\n"
          ]
        }
      ]
    },
    {
      "cell_type": "markdown",
      "source": [
        "**Step 4: BlackChain Address Derivation**"
      ],
      "metadata": {
        "id": "AZqzow9Vu5Em"
      }
    },
    {
      "cell_type": "code",
      "source": [
        "def keccak256(data: bytes) -> bytes:\n",
        "    k = keccak.new(digest_bits=256)\n",
        "    k.update(data)\n",
        "    return k.digest()\n",
        "\n",
        "def derive_blackchain_address(dilithium_pub, ecc_keys, chain_code):\n",
        "    # Combine all parts\n",
        "    combined = (\n",
        "        dilithium_pub +\n",
        "        ecc_keys[\"P-521\"][\"public\"] +\n",
        "        ecc_keys[\"Curve448\"][\"public\"] +\n",
        "        ecc_keys[\"E-521\"][\"public\"] +\n",
        "        chain_code\n",
        "    )\n",
        "    h = keccak256(combined)\n",
        "    raw_address = h[-20:]\n",
        "\n",
        "    # EIP-55 checksum\n",
        "    addr_hex = raw_address.hex()\n",
        "    checksum = keccak256(addr_hex.encode()).hex()\n",
        "    checksummed = \"0x\"\n",
        "    for i, c in enumerate(addr_hex):\n",
        "        if c in \"abcdef\" and int(checksum[i], 16) >= 8:\n",
        "            checksummed += c.upper()\n",
        "        else:\n",
        "            checksummed += c\n",
        "    return checksummed\n",
        "\n",
        "address = derive_blackchain_address(dilithium_pub, ecc_keys, chain_code)\n",
        "print(\"BlackChain Address:\", address)\n"
      ],
      "metadata": {
        "colab": {
          "base_uri": "https://localhost:8080/"
        },
        "id": "-iegRCzQt5G-",
        "outputId": "e7266c0b-ead5-473b-bcfa-d9bae49de76e"
      },
      "execution_count": 10,
      "outputs": [
        {
          "output_type": "stream",
          "name": "stdout",
          "text": [
            "BlackChain Address: 0xf594D71d54a31f0e8Ea4CAE77294162b2F974665\n"
          ]
        }
      ]
    }
  ]
}